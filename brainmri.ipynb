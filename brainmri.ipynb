{
 "cells": [
  {
   "cell_type": "markdown",
   "id": "4436e588",
   "metadata": {
    "papermill": {
     "duration": 0.00536,
     "end_time": "2024-01-04T20:55:05.602707",
     "exception": false,
     "start_time": "2024-01-04T20:55:05.597347",
     "status": "completed"
    },
    "tags": []
   },
   "source": [
    "# Brain Tumor Type Classification from MRI Image Scans"
   ]
  },
  {
   "cell_type": "code",
   "execution_count": 1,
   "id": "b784df53",
   "metadata": {
    "_cell_guid": "b1076dfc-b9ad-4769-8c92-a6c4dae69d19",
    "_uuid": "8f2839f25d086af736a60e9eeb907d3b93b6e0e5",
    "execution": {
     "iopub.execute_input": "2024-01-04T20:55:05.614324Z",
     "iopub.status.busy": "2024-01-04T20:55:05.613519Z",
     "iopub.status.idle": "2024-01-04T20:55:06.308768Z",
     "shell.execute_reply": "2024-01-04T20:55:06.307954Z"
    },
    "papermill": {
     "duration": 0.703633,
     "end_time": "2024-01-04T20:55:06.311155",
     "exception": false,
     "start_time": "2024-01-04T20:55:05.607522",
     "status": "completed"
    },
    "tags": []
   },
   "outputs": [],
   "source": [
    "# This Python 3 environment comes with many helpful analytics libraries installed\n",
    "# It is defined by the kaggle/python Docker image: https://github.com/kaggle/docker-python\n",
    "# For example, here's several helpful packages to load\n",
    "\n",
    "import numpy as np # linear algebra\n",
    "import pandas as pd # data processing, CSV file I/O (e.g. pd.read_csv)\n",
    "from PIL import Image\n",
    "# Input data files are available in the read-only \"../input/\" directory\n",
    "# For example, running this (by clicking run or pressing Shift+Enter) will list all files under the input directory\n",
    "\n",
    "import os\n",
    "train_dir = '/kaggle/input/brain-tumor-mri-dataset/Training/'\n",
    "test_dir = '/kaggle/input/brain-tumor-mri-dataset/Testing/'\n",
    "# train_paths = []\n",
    "# train_labels = []\n",
    "# test_paths = []\n",
    "# test_labels = []\n",
    "# dset = []\n",
    "# for label in os.listdir(train_dir):\n",
    "#     for image in os.listdir(train_dir+label):\n",
    "#         train_paths.append(train_dir+label+'/'+image)\n",
    "#         train_labels.append(label)\n",
    "# # for label in os.listdir(test_dir):\n",
    "# #     for image in os.listdir(test_dir+label):\n",
    "# #         test_paths.append(test_dir+label+'/'+image)\n",
    "# #         test_labels.append(label)  \n",
    "# for path, directory, files in os.walk(test_dir):\n",
    "#     for file in files:\n",
    "#         if '.jpg' in file:\n",
    "#             dset.append((os.path.join(path, file), path.split('/')[-1]))\n",
    "# test_df = pd.DataFrame(dset, columns=['folder', 'file'])\n",
    "# You can write up to 20GB to the current directory (/kaggle/working/) that gets preserved as output when you create a version using \"Save & Run All\" \n",
    "# You can also write temporary files to /kaggle/temp/, but they won't be saved outside of the current session"
   ]
  },
  {
   "cell_type": "code",
   "execution_count": 2,
   "id": "31d5f4d3",
   "metadata": {
    "execution": {
     "iopub.execute_input": "2024-01-04T20:55:06.322159Z",
     "iopub.status.busy": "2024-01-04T20:55:06.321741Z",
     "iopub.status.idle": "2024-01-04T20:55:18.293027Z",
     "shell.execute_reply": "2024-01-04T20:55:18.292051Z"
    },
    "papermill": {
     "duration": 11.97946,
     "end_time": "2024-01-04T20:55:18.295525",
     "exception": false,
     "start_time": "2024-01-04T20:55:06.316065",
     "status": "completed"
    },
    "tags": []
   },
   "outputs": [
    {
     "name": "stderr",
     "output_type": "stream",
     "text": [
      "/opt/conda/lib/python3.10/site-packages/scipy/__init__.py:146: UserWarning: A NumPy version >=1.16.5 and <1.23.0 is required for this version of SciPy (detected version 1.24.3\n",
      "  warnings.warn(f\"A NumPy version >={np_minversion} and <{np_maxversion}\"\n"
     ]
    }
   ],
   "source": [
    "import tensorflow as tf\n",
    "from tensorflow import keras\n",
    "from tensorflow.keras import Sequential, layers\n",
    "from tensorflow.keras.metrics import Precision\n",
    "from tensorflow.keras.preprocessing.image import ImageDataGenerator\n",
    "from sklearn.model_selection import train_test_split"
   ]
  },
  {
   "cell_type": "markdown",
   "id": "4f203586",
   "metadata": {
    "papermill": {
     "duration": 0.004582,
     "end_time": "2024-01-04T20:55:18.305331",
     "exception": false,
     "start_time": "2024-01-04T20:55:18.300749",
     "status": "completed"
    },
    "tags": []
   },
   "source": [
    "# Data Formatting & Processing"
   ]
  },
  {
   "cell_type": "code",
   "execution_count": 3,
   "id": "75378cd4",
   "metadata": {
    "execution": {
     "iopub.execute_input": "2024-01-04T20:55:18.316941Z",
     "iopub.status.busy": "2024-01-04T20:55:18.315927Z",
     "iopub.status.idle": "2024-01-04T20:55:21.826458Z",
     "shell.execute_reply": "2024-01-04T20:55:21.825499Z"
    },
    "papermill": {
     "duration": 3.518768,
     "end_time": "2024-01-04T20:55:21.828792",
     "exception": false,
     "start_time": "2024-01-04T20:55:18.310024",
     "status": "completed"
    },
    "tags": []
   },
   "outputs": [
    {
     "name": "stdout",
     "output_type": "stream",
     "text": [
      "Found 5712 files belonging to 4 classes.\n",
      "Using 4570 files for training.\n",
      "Using 1142 files for validation.\n",
      "Found 1311 files belonging to 4 classes.\n"
     ]
    }
   ],
   "source": [
    "class_num = 4\n",
    "batch_size=500\n",
    "Epochs=20\n",
    "train_data, validation_data = tf.keras.utils.image_dataset_from_directory(directory=train_dir, label_mode='categorical', validation_split=0.2, subset='both', shuffle=True, seed=123, batch_size=batch_size)\n",
    "test_data = tf.keras.utils.image_dataset_from_directory(directory=test_dir, label_mode='categorical', shuffle=True, batch_size=batch_size)"
   ]
  },
  {
   "cell_type": "code",
   "execution_count": 4,
   "id": "c8681a32",
   "metadata": {
    "execution": {
     "iopub.execute_input": "2024-01-04T20:55:21.840913Z",
     "iopub.status.busy": "2024-01-04T20:55:21.840117Z",
     "iopub.status.idle": "2024-01-04T20:55:21.917013Z",
     "shell.execute_reply": "2024-01-04T20:55:21.916246Z"
    },
    "papermill": {
     "duration": 0.085216,
     "end_time": "2024-01-04T20:55:21.919321",
     "exception": false,
     "start_time": "2024-01-04T20:55:21.834105",
     "status": "completed"
    },
    "tags": []
   },
   "outputs": [],
   "source": [
    "train_data = train_data.map(lambda x,y: (x/255, y))\n",
    "validation_data = validation_data.map(lambda x,y: (x/255, y))\n",
    "test_data = test_data.map(lambda x,y: (x/255, y))"
   ]
  },
  {
   "cell_type": "markdown",
   "id": "410ce58c",
   "metadata": {
    "papermill": {
     "duration": 0.004772,
     "end_time": "2024-01-04T20:55:21.929262",
     "exception": false,
     "start_time": "2024-01-04T20:55:21.924490",
     "status": "completed"
    },
    "tags": []
   },
   "source": [
    "# Data Augmentation"
   ]
  },
  {
   "cell_type": "code",
   "execution_count": 5,
   "id": "9d3e6b2e",
   "metadata": {
    "execution": {
     "iopub.execute_input": "2024-01-04T20:55:21.940607Z",
     "iopub.status.busy": "2024-01-04T20:55:21.940283Z",
     "iopub.status.idle": "2024-01-04T20:55:21.971290Z",
     "shell.execute_reply": "2024-01-04T20:55:21.970530Z"
    },
    "papermill": {
     "duration": 0.039543,
     "end_time": "2024-01-04T20:55:21.973852",
     "exception": false,
     "start_time": "2024-01-04T20:55:21.934309",
     "status": "completed"
    },
    "tags": []
   },
   "outputs": [],
   "source": [
    "data_augmentation = Sequential([\n",
    "    layers.experimental.preprocessing.RandomFlip(mode=\"horizontal\"),\n",
    "    layers.experimental.preprocessing.RandomContrast(factor=0.2)\n",
    "])"
   ]
  },
  {
   "cell_type": "markdown",
   "id": "6a32315d",
   "metadata": {
    "papermill": {
     "duration": 0.004808,
     "end_time": "2024-01-04T20:55:21.983854",
     "exception": false,
     "start_time": "2024-01-04T20:55:21.979046",
     "status": "completed"
    },
    "tags": []
   },
   "source": [
    "# Defining Model"
   ]
  },
  {
   "cell_type": "code",
   "execution_count": 6,
   "id": "e986de3f",
   "metadata": {
    "execution": {
     "iopub.execute_input": "2024-01-04T20:55:21.995882Z",
     "iopub.status.busy": "2024-01-04T20:55:21.995043Z",
     "iopub.status.idle": "2024-01-04T20:55:22.537216Z",
     "shell.execute_reply": "2024-01-04T20:55:22.536153Z"
    },
    "papermill": {
     "duration": 0.565793,
     "end_time": "2024-01-04T20:55:22.554633",
     "exception": false,
     "start_time": "2024-01-04T20:55:21.988840",
     "status": "completed"
    },
    "tags": []
   },
   "outputs": [
    {
     "name": "stdout",
     "output_type": "stream",
     "text": [
      "Model: \"sequential_1\"\n",
      "_________________________________________________________________\n",
      " Layer (type)                Output Shape              Param #   \n",
      "=================================================================\n",
      " conv2d (Conv2D)             (500, 256, 256, 32)       896       \n",
      "                                                                 \n",
      " max_pooling2d (MaxPooling2  (500, 85, 85, 32)         0         \n",
      " D)                                                              \n",
      "                                                                 \n",
      " batch_normalization (Batch  (500, 85, 85, 32)         128       \n",
      " Normalization)                                                  \n",
      "                                                                 \n",
      " conv2d_1 (Conv2D)           (500, 85, 85, 64)         18496     \n",
      "                                                                 \n",
      " max_pooling2d_1 (MaxPoolin  (500, 28, 28, 64)         0         \n",
      " g2D)                                                            \n",
      "                                                                 \n",
      " batch_normalization_1 (Bat  (500, 28, 28, 64)         256       \n",
      " chNormalization)                                                \n",
      "                                                                 \n",
      " conv2d_2 (Conv2D)           (500, 28, 28, 128)        73856     \n",
      "                                                                 \n",
      " max_pooling2d_2 (MaxPoolin  (500, 9, 9, 128)          0         \n",
      " g2D)                                                            \n",
      "                                                                 \n",
      " batch_normalization_2 (Bat  (500, 9, 9, 128)          512       \n",
      " chNormalization)                                                \n",
      "                                                                 \n",
      " conv2d_3 (Conv2D)           (500, 9, 9, 256)          295168    \n",
      "                                                                 \n",
      " max_pooling2d_3 (MaxPoolin  (500, 3, 3, 256)          0         \n",
      " g2D)                                                            \n",
      "                                                                 \n",
      " batch_normalization_3 (Bat  (500, 3, 3, 256)          1024      \n",
      " chNormalization)                                                \n",
      "                                                                 \n",
      " global_average_pooling2d (  (500, 256)                0         \n",
      " GlobalAveragePooling2D)                                         \n",
      "                                                                 \n",
      " dense (Dense)               (500, 1500)               385500    \n",
      "                                                                 \n",
      " batch_normalization_4 (Bat  (500, 1500)               6000      \n",
      " chNormalization)                                                \n",
      "                                                                 \n",
      " dropout (Dropout)           (500, 1500)               0         \n",
      "                                                                 \n",
      " dense_1 (Dense)             (500, 1000)               1501000   \n",
      "                                                                 \n",
      " batch_normalization_5 (Bat  (500, 1000)               4000      \n",
      " chNormalization)                                                \n",
      "                                                                 \n",
      " dropout_1 (Dropout)         (500, 1000)               0         \n",
      "                                                                 \n",
      " dense_2 (Dense)             (500, 500)                500500    \n",
      "                                                                 \n",
      " batch_normalization_6 (Bat  (500, 500)                2000      \n",
      " chNormalization)                                                \n",
      "                                                                 \n",
      " dense_3 (Dense)             (500, 4)                  2004      \n",
      "                                                                 \n",
      "=================================================================\n",
      "Total params: 2791340 (10.65 MB)\n",
      "Trainable params: 2784380 (10.62 MB)\n",
      "Non-trainable params: 6960 (27.19 KB)\n",
      "_________________________________________________________________\n",
      "None\n"
     ]
    }
   ],
   "source": [
    "model = keras.Sequential([\n",
    "    layers.InputLayer(input_shape=(256, 256, 3), batch_size=batch_size),\n",
    "    \n",
    "    \n",
    "    layers.Conv2D(filters=32, kernel_size=3, strides=1, activation='relu', padding=\"same\"),\n",
    "    layers.MaxPool2D(pool_size=(3,3)),\n",
    "    layers.BatchNormalization(),\n",
    "    \n",
    "    layers.Conv2D(filters=64, kernel_size=3, strides=1, activation='relu', padding=\"same\"),\n",
    "    layers.MaxPool2D(pool_size=(3,3)),\n",
    "    layers.BatchNormalization(),\n",
    "    \n",
    "    layers.Conv2D(filters=128, kernel_size=3, strides=1, activation='relu', padding=\"same\"),\n",
    "    layers.MaxPool2D(pool_size=(3,3)),\n",
    "    layers.BatchNormalization(),\n",
    "    \n",
    "    layers.Conv2D(filters=256, kernel_size=3, strides=1, activation='relu', padding=\"same\"),\n",
    "    layers.MaxPool2D(pool_size=(3,3)),\n",
    "    layers.BatchNormalization(),\n",
    "    \n",
    "    layers.GlobalAveragePooling2D(),\n",
    "    layers.Dense(batch_size*3, activation=\"relu\"),\n",
    "    layers.BatchNormalization(),\n",
    "    layers.Dropout(0.3),\n",
    "    layers.Dense(batch_size*2, activation=\"relu\"),\n",
    "    layers.BatchNormalization(),\n",
    "    layers.Dropout(0.3),\n",
    "    layers.Dense(batch_size, activation=\"relu\"),\n",
    "    layers.BatchNormalization(),\n",
    "    layers.Dense(class_num, activation=\"softmax\")\n",
    "    ])\n",
    "print(model.summary())"
   ]
  },
  {
   "cell_type": "code",
   "execution_count": 7,
   "id": "65d60b48",
   "metadata": {
    "execution": {
     "iopub.execute_input": "2024-01-04T20:55:22.577017Z",
     "iopub.status.busy": "2024-01-04T20:55:22.576137Z",
     "iopub.status.idle": "2024-01-04T20:55:22.599518Z",
     "shell.execute_reply": "2024-01-04T20:55:22.598563Z"
    },
    "papermill": {
     "duration": 0.036927,
     "end_time": "2024-01-04T20:55:22.601804",
     "exception": false,
     "start_time": "2024-01-04T20:55:22.564877",
     "status": "completed"
    },
    "tags": []
   },
   "outputs": [],
   "source": [
    "model.compile(loss = \"categorical_crossentropy\", optimizer='adam', metrics=['accuracy', Precision()])"
   ]
  },
  {
   "cell_type": "markdown",
   "id": "a127d4e1",
   "metadata": {
    "papermill": {
     "duration": 0.010053,
     "end_time": "2024-01-04T20:55:22.622075",
     "exception": false,
     "start_time": "2024-01-04T20:55:22.612022",
     "status": "completed"
    },
    "tags": []
   },
   "source": [
    "# Model Training"
   ]
  },
  {
   "cell_type": "code",
   "execution_count": 8,
   "id": "89769ef5",
   "metadata": {
    "execution": {
     "iopub.execute_input": "2024-01-04T20:55:22.644237Z",
     "iopub.status.busy": "2024-01-04T20:55:22.643368Z",
     "iopub.status.idle": "2024-01-04T20:59:01.477518Z",
     "shell.execute_reply": "2024-01-04T20:59:01.476627Z"
    },
    "papermill": {
     "duration": 218.868796,
     "end_time": "2024-01-04T20:59:01.500885",
     "exception": false,
     "start_time": "2024-01-04T20:55:22.632089",
     "status": "completed"
    },
    "tags": []
   },
   "outputs": [
    {
     "name": "stdout",
     "output_type": "stream",
     "text": [
      "Epoch 1/20\n",
      "10/10 [==============================] - 31s 799ms/step - loss: 0.8787 - accuracy: 0.7048 - precision: 0.7389 - val_loss: 1.2523 - val_accuracy: 0.4282 - val_precision: 0.9375\n",
      "Epoch 2/20\n",
      "10/10 [==============================] - 10s 504ms/step - loss: 0.4035 - accuracy: 0.8499 - precision: 0.8601 - val_loss: 1.3100 - val_accuracy: 0.3074 - val_precision: 1.0000\n",
      "Epoch 3/20\n",
      "10/10 [==============================] - 9s 496ms/step - loss: 0.3015 - accuracy: 0.8882 - precision: 0.8941 - val_loss: 1.3374 - val_accuracy: 0.3783 - val_precision: 0.0000e+00\n",
      "Epoch 4/20\n",
      "10/10 [==============================] - 9s 497ms/step - loss: 0.3080 - accuracy: 0.8829 - precision: 0.8913 - val_loss: 1.3243 - val_accuracy: 0.3144 - val_precision: 0.3537\n",
      "Epoch 5/20\n",
      "10/10 [==============================] - 10s 495ms/step - loss: 0.2529 - accuracy: 0.9028 - precision: 0.9072 - val_loss: 1.3727 - val_accuracy: 0.3179 - val_precision: 0.6685\n",
      "Epoch 6/20\n",
      "10/10 [==============================] - 9s 513ms/step - loss: 0.1856 - accuracy: 0.9322 - precision: 0.9350 - val_loss: 1.4954 - val_accuracy: 0.2898 - val_precision: 0.2856\n",
      "Epoch 7/20\n",
      "10/10 [==============================] - 9s 511ms/step - loss: 0.1779 - accuracy: 0.9291 - precision: 0.9334 - val_loss: 1.4644 - val_accuracy: 0.2942 - val_precision: 0.2944\n",
      "Epoch 8/20\n",
      "10/10 [==============================] - 10s 507ms/step - loss: 0.1553 - accuracy: 0.9438 - precision: 0.9456 - val_loss: 1.5647 - val_accuracy: 0.2583 - val_precision: 0.2736\n",
      "Epoch 9/20\n",
      "10/10 [==============================] - 11s 487ms/step - loss: 0.1208 - accuracy: 0.9565 - precision: 0.9591 - val_loss: 1.8380 - val_accuracy: 0.2960 - val_precision: 0.2924\n",
      "Epoch 10/20\n",
      "10/10 [==============================] - 9s 500ms/step - loss: 0.1139 - accuracy: 0.9571 - precision: 0.9575 - val_loss: 1.5960 - val_accuracy: 0.4028 - val_precision: 0.3995\n",
      "Epoch 11/20\n",
      "10/10 [==============================] - 9s 496ms/step - loss: 0.0971 - accuracy: 0.9617 - precision: 0.9629 - val_loss: 2.9704 - val_accuracy: 0.2811 - val_precision: 0.2813\n",
      "Epoch 12/20\n",
      "10/10 [==============================] - 9s 494ms/step - loss: 0.0803 - accuracy: 0.9711 - precision: 0.9728 - val_loss: 3.0099 - val_accuracy: 0.2933 - val_precision: 0.2929\n",
      "Epoch 13/20\n",
      "10/10 [==============================] - 9s 488ms/step - loss: 0.1069 - accuracy: 0.9604 - precision: 0.9618 - val_loss: 2.3011 - val_accuracy: 0.2680 - val_precision: 0.2675\n",
      "Epoch 14/20\n",
      "10/10 [==============================] - 10s 516ms/step - loss: 0.1245 - accuracy: 0.9523 - precision: 0.9565 - val_loss: 1.7328 - val_accuracy: 0.4168 - val_precision: 0.4178\n",
      "Epoch 15/20\n",
      "10/10 [==============================] - 10s 498ms/step - loss: 0.0622 - accuracy: 0.9796 - precision: 0.9805 - val_loss: 4.3618 - val_accuracy: 0.2618 - val_precision: 0.2623\n",
      "Epoch 16/20\n",
      "10/10 [==============================] - 10s 499ms/step - loss: 0.0610 - accuracy: 0.9799 - precision: 0.9807 - val_loss: 3.6450 - val_accuracy: 0.3984 - val_precision: 0.3981\n",
      "Epoch 17/20\n",
      "10/10 [==============================] - 9s 501ms/step - loss: 0.0686 - accuracy: 0.9748 - precision: 0.9761 - val_loss: 4.6201 - val_accuracy: 0.2618 - val_precision: 0.2618\n",
      "Epoch 18/20\n",
      "10/10 [==============================] - 10s 522ms/step - loss: 0.0405 - accuracy: 0.9880 - precision: 0.9895 - val_loss: 3.5614 - val_accuracy: 0.4422 - val_precision: 0.4417\n",
      "Epoch 19/20\n",
      "10/10 [==============================] - 11s 519ms/step - loss: 0.0349 - accuracy: 0.9888 - precision: 0.9895 - val_loss: 4.7268 - val_accuracy: 0.3100 - val_precision: 0.3099\n",
      "Epoch 20/20\n",
      "10/10 [==============================] - 10s 579ms/step - loss: 0.0334 - accuracy: 0.9886 - precision: 0.9886 - val_loss: 3.1473 - val_accuracy: 0.4597 - val_precision: 0.4597\n"
     ]
    }
   ],
   "source": [
    "history = model.fit(train_data, epochs=Epochs, validation_data=validation_data, shuffle=True)"
   ]
  },
  {
   "cell_type": "markdown",
   "id": "0533a88b",
   "metadata": {
    "papermill": {
     "duration": 0.028484,
     "end_time": "2024-01-04T20:59:01.557776",
     "exception": false,
     "start_time": "2024-01-04T20:59:01.529292",
     "status": "completed"
    },
    "tags": []
   },
   "source": [
    "# Training Results"
   ]
  },
  {
   "cell_type": "code",
   "execution_count": 9,
   "id": "430b6e81",
   "metadata": {
    "execution": {
     "iopub.execute_input": "2024-01-04T20:59:01.616508Z",
     "iopub.status.busy": "2024-01-04T20:59:01.616155Z",
     "iopub.status.idle": "2024-01-04T20:59:02.222677Z",
     "shell.execute_reply": "2024-01-04T20:59:02.221770Z"
    },
    "papermill": {
     "duration": 0.638722,
     "end_time": "2024-01-04T20:59:02.225095",
     "exception": false,
     "start_time": "2024-01-04T20:59:01.586373",
     "status": "completed"
    },
    "tags": []
   },
   "outputs": [
    {
     "data": {
      "image/png": "[encoded data removed]",
      "text/plain": [
       "<Figure size 640x480 with 1 Axes>"
      ]
     },
     "metadata": {},
     "output_type": "display_data"
    },
    {
     "data": {
      "image/png": "[encoded data removed]",
      "text/plain": [
       "<Figure size 640x480 with 1 Axes>"
      ]
     },
     "metadata": {},
     "output_type": "display_data"
    }
   ],
   "source": [
    "import matplotlib.pyplot as plt\n",
    "\n",
    "plt.plot(range(5, Epochs), history.history['loss'][5:], label='Loss')\n",
    "plt.plot(range(5, Epochs), history.history['val_loss'][5:], label='Validation Loss')\n",
    "plt.title('Model Loss')\n",
    "plt.legend()\n",
    "plt.show()\n",
    "plt.plot(range(Epochs), history.history['accuracy'], label='Accuracy')\n",
    "plt.plot(range(Epochs), history.history['val_accuracy'], label='Validation Accuracy')\n",
    "plt.title('Model Accuracy')\n",
    "plt.legend()\n",
    "plt.show()"
   ]
  },
  {
   "cell_type": "markdown",
   "id": "3ccf33f2",
   "metadata": {
    "papermill": {
     "duration": 0.029433,
     "end_time": "2024-01-04T20:59:02.284280",
     "exception": false,
     "start_time": "2024-01-04T20:59:02.254847",
     "status": "completed"
    },
    "tags": []
   },
   "source": [
    "# Model Evaluation"
   ]
  },
  {
   "cell_type": "code",
   "execution_count": 10,
   "id": "abd491d4",
   "metadata": {
    "execution": {
     "iopub.execute_input": "2024-01-04T20:59:02.399806Z",
     "iopub.status.busy": "2024-01-04T20:59:02.398952Z",
     "iopub.status.idle": "2024-01-04T20:59:08.399122Z",
     "shell.execute_reply": "2024-01-04T20:59:08.398161Z"
    },
    "papermill": {
     "duration": 6.087466,
     "end_time": "2024-01-04T20:59:08.401291",
     "exception": false,
     "start_time": "2024-01-04T20:59:02.313825",
     "status": "completed"
    },
    "tags": []
   },
   "outputs": [
    {
     "name": "stdout",
     "output_type": "stream",
     "text": [
      "3/3 [==============================] - 6s 621ms/step - loss: 3.2196 - accuracy: 0.4455 - precision: 0.4458\n"
     ]
    },
    {
     "data": {
      "text/plain": [
       "[3.2196409702301025, 0.4454614818096161, 0.4458015263080597]"
      ]
     },
     "execution_count": 10,
     "metadata": {},
     "output_type": "execute_result"
    }
   ],
   "source": [
    "model.evaluate(test_data, batch_size=batch_size)"
   ]
  }
 ],
 "metadata": {
  "kaggle": {
   "accelerator": "gpu",
   "dataSources": [
    {
     "datasetId": 1608934,
     "sourceId": 2645886,
     "sourceType": "datasetVersion"
    }
   ],
   "dockerImageVersionId": 30626,
   "isGpuEnabled": true,
   "isInternetEnabled": true,
   "language": "python",
   "sourceType": "notebook"
  },
  "kernelspec": {
   "display_name": "Python 3",
   "language": "python",
   "name": "python3"
  },
  "language_info": {
   "codemirror_mode": {
    "name": "ipython",
    "version": 3
   },
   "file_extension": ".py",
   "mimetype": "text/x-python",
   "name": "python",
   "nbconvert_exporter": "python",
   "pygments_lexer": "ipython3",
   "version": "3.10.12"
  },
  "papermill": {
   "default_parameters": {},
   "duration": 249.569914,
   "end_time": "2024-01-04T20:59:11.834349",
   "environment_variables": {},
   "exception": null,
   "input_path": "__notebook__.ipynb",
   "output_path": "__notebook__.ipynb",
   "parameters": {},
   "start_time": "2024-01-04T20:55:02.264435",
   "version": "2.4.0"
  }
 },
 "nbformat": 4,
 "nbformat_minor": 5
}
